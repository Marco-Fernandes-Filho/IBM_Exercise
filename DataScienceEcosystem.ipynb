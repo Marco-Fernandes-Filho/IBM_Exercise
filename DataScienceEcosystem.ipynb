{
 "cells": [
  {
   "cell_type": "markdown",
   "id": "ad49591c",
   "metadata": {},
   "source": [
    "# Data Science Tools and Ecosystem"
   ]
  },
  {
   "cell_type": "markdown",
   "id": "94645da5",
   "metadata": {},
   "source": [
    "## Author\n",
    "Marco Alexandre Fernandes Filho"
   ]
  },
  {
   "cell_type": "markdown",
   "id": "f44d82ff",
   "metadata": {},
   "source": [
    "___In this notebook, Data Science Tools and Ecosystem are summarized___"
   ]
  },
  {
   "cell_type": "markdown",
   "id": "f915f281",
   "metadata": {},
   "source": [
    "___Objectives:___\n",
    "* list languages that Data Scientists use\n",
    "* libraries used by Data Scientists\n",
    "* examples of evaluating arithmetic expressions in Python\n",
    "* examples of evaluating arithmetic expressions in Python using minutes and hours"
   ]
  },
  {
   "cell_type": "markdown",
   "id": "b98840ea",
   "metadata": {},
   "source": [
    "Some of the popular languages that Data Scientists use are:\n",
    "1. Python\n",
    "2. R\n",
    "3. Julia"
   ]
  },
  {
   "cell_type": "markdown",
   "id": "ef9c09f5",
   "metadata": {},
   "source": [
    "Some of the commonly used libraries used by Data Scientists include:\n",
    "1. Numpy\n",
    "2. Seaborn\n",
    "3. Matplotlib\n",
    "4. Panda"
   ]
  },
  {
   "cell_type": "markdown",
   "id": "eddd1bc8",
   "metadata": {},
   "source": [
    "| Data Science Tools |\n",
    "| :---: |\n",
    "| RStudio |\n",
    "| Apache Spark |\n",
    "| TensorFlow |\n",
    "| Apache Hadoop |"
   ]
  },
  {
   "cell_type": "markdown",
   "id": "86ad16c6",
   "metadata": {},
   "source": [
    "### Below are a few examples of evaluating arithmetic expressions in Python\n",
    "\n",
    "* (2 + 2)\n",
    "* (2 * 2)\n",
    "* (2 - 2)\n",
    "* (2 * 2 + 2)"
   ]
  },
  {
   "cell_type": "code",
   "execution_count": 22,
   "id": "5a9a6772",
   "metadata": {},
   "outputs": [
    {
     "data": {
      "text/plain": [
       "17"
      ]
     },
     "execution_count": 22,
     "metadata": {},
     "output_type": "execute_result"
    }
   ],
   "source": [
    "#This a simple arithmetic expression to mutiply then add integers:\n",
    "(3*4)+5"
   ]
  },
  {
   "cell_type": "code",
   "execution_count": 30,
   "id": "5540b8d4",
   "metadata": {},
   "outputs": [
    {
     "name": "stdout",
     "output_type": "stream",
     "text": [
      "3.33 hours\n"
     ]
    }
   ],
   "source": [
    "#This cell will convert 200 minutes to hours by diving by 60:\n",
    "minutes = 200\n",
    "hour = 60\n",
    "result = minutes/hour\n",
    "print(\"{:.2f} hours\".format(result))"
   ]
  },
  {
   "cell_type": "code",
   "execution_count": null,
   "id": "6463d894",
   "metadata": {},
   "outputs": [],
   "source": []
  }
 ],
 "metadata": {
  "kernelspec": {
   "display_name": "Python 3 (ipykernel)",
   "language": "python",
   "name": "python3"
  },
  "language_info": {
   "codemirror_mode": {
    "name": "ipython",
    "version": 3
   },
   "file_extension": ".py",
   "mimetype": "text/x-python",
   "name": "python",
   "nbconvert_exporter": "python",
   "pygments_lexer": "ipython3",
   "version": "3.9.13"
  }
 },
 "nbformat": 4,
 "nbformat_minor": 5
}
